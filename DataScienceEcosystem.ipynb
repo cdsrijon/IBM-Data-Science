{
 "cells": [
  {
   "cell_type": "markdown",
   "id": "bae17500-55a4-42c4-95fe-f2c5f446a566",
   "metadata": {},
   "source": [
    "# Data Science Tools and Ecosystem"
   ]
  },
  {
   "cell_type": "markdown",
   "id": "c1d8fb3d-80de-4a2c-b592-cfd7471050bf",
   "metadata": {},
   "source": [
    "In this notebook, Data Science Tools and Ecosystem are summarized."
   ]
  },
  {
   "cell_type": "markdown",
   "id": "c7a53838-301d-484b-89ff-c64898814515",
   "metadata": {
    "tags": []
   },
   "source": [
    "Some of the popular languages that Data Scientists use are:\n",
    "\n",
    "1.Python\n",
    "\n",
    "2.R\n",
    "\n",
    "3.SQL"
   ]
  },
  {
   "cell_type": "markdown",
   "id": "3bcfaf19-6a42-4634-b6f7-344fc3142ca2",
   "metadata": {
    "tags": []
   },
   "source": [
    "Some of the commonly used libraries used by Data Scientists include:\n",
    "\n",
    "1. Pandas\n",
    "2. NumPy\n",
    "3. Matplotlib\n",
    "4. SciPy\n",
    "5. Scikit-learn\n",
    "6. TensorFlow\n",
    "7. Keras\n",
    "8. PyTorch\n",
    "9. Seaborn\n",
    "10. Statsmodels"
   ]
  },
  {
   "cell_type": "markdown",
   "id": "105f2e61-651d-46ed-bd5f-3abecbcde103",
   "metadata": {
    "tags": []
   },
   "source": [
    "| Data Science Tools|\n",
    "|-------------------|\n",
    "| RStudio |\n",
    "| Jupyter Notebook |\n",
    "| Github |"
   ]
  },
  {
   "cell_type": "markdown",
   "id": "1363b949-8d94-46bf-b059-072e3f27f135",
   "metadata": {},
   "source": [
    "### Below are a few examples of evaluating arithmetic expressions in Python"
   ]
  },
  {
   "cell_type": "code",
   "execution_count": 2,
   "id": "a997ccd7",
   "metadata": {},
   "outputs": [
    {
     "name": "stdout",
     "output_type": "stream",
     "text": [
      "17\n"
     ]
    }
   ],
   "source": [
    "#This a simple arithmetic expression to mutiply then add integers\n",
    "\n",
    "print((3*4)+5)"
   ]
  },
  {
   "cell_type": "code",
   "execution_count": 3,
   "id": "264ca10b",
   "metadata": {},
   "outputs": [
    {
     "name": "stdout",
     "output_type": "stream",
     "text": [
      "200 minutes is equal to: 3 hours & 20 mins\n"
     ]
    }
   ],
   "source": [
    "#This will convert 200 minutes to hours by diving by 60\n",
    "\n",
    "mins = 200\n",
    "hours = int(mins/60)\n",
    "extra_mins = mins%60\n",
    "\n",
    "print(\"200 minutes is equal to: \" + str(hours) + \" hours & \" + str(extra_mins) + \" mins\")\n"
   ]
  },
  {
   "cell_type": "markdown",
   "id": "0e94a0c4",
   "metadata": {},
   "source": [
    "**Objectives:**\n",
    "\n",
    "- Understand the basics of data science.\n",
    "- Learn about commonly used data science tools and libraries.\n",
    "- Explore techniques for data preprocessing and cleaning.\n",
    "- Gain insights into data visualization.\n",
    "- Familiarize with machine learning algorithms and techniques.\n",
    "- Practice applying data science concepts to real-world datasets.\n"
   ]
  },
  {
   "cell_type": "markdown",
   "id": "b712d5a6",
   "metadata": {},
   "source": [
    "## Author\n",
    "\n",
    "Srijon Chandra Das"
   ]
  },
  {
   "cell_type": "markdown",
   "id": "42133da1",
   "metadata": {},
   "source": []
  }
 ],
 "metadata": {
  "kernelspec": {
   "display_name": "Python 3",
   "language": "python",
   "name": "python3"
  },
  "language_info": {
   "codemirror_mode": {
    "name": "ipython",
    "version": 3
   },
   "file_extension": ".py",
   "mimetype": "text/x-python",
   "name": "python",
   "nbconvert_exporter": "python",
   "pygments_lexer": "ipython3",
   "version": "3.11.5"
  }
 },
 "nbformat": 4,
 "nbformat_minor": 5
}
